{
 "cells": [
  {
   "cell_type": "code",
   "execution_count": 33,
   "metadata": {},
   "outputs": [],
   "source": [
    "import numpy as np\n",
    "import matplotlib as p"
   ]
  },
  {
   "cell_type": "code",
   "execution_count": 17,
   "metadata": {},
   "outputs": [],
   "source": [
    "a=np.array([[1,2,3],[4,5,6]])"
   ]
  },
  {
   "cell_type": "code",
   "execution_count": 18,
   "metadata": {},
   "outputs": [
    {
     "data": {
      "text/plain": [
       "(2, 3)"
      ]
     },
     "execution_count": 18,
     "metadata": {},
     "output_type": "execute_result"
    }
   ],
   "source": [
    "np.shape(a)"
   ]
  },
  {
   "cell_type": "code",
   "execution_count": 68,
   "metadata": {},
   "outputs": [
    {
     "data": {
      "text/plain": [
       "array([[1, 2],\n",
       "       [3, 4],\n",
       "       [5, 6]])"
      ]
     },
     "execution_count": 68,
     "metadata": {},
     "output_type": "execute_result"
    }
   ],
   "source": [
    "a=np.resize(a,[3,2])\n",
    "a"
   ]
  },
  {
   "cell_type": "code",
   "execution_count": 66,
   "metadata": {},
   "outputs": [
    {
     "name": "stdout",
     "output_type": "stream",
     "text": [
      "9.333333333333332\n",
      "0\n"
     ]
    }
   ],
   "source": [
    "def computeCost(m,b,a):\n",
    "    x=a[:,0:1]\n",
    "    y=a[:,1:2]\n",
    "    n=len(x)\n",
    "    h=m*x+b\n",
    "    j=1/(2*n)*np.sum((h-y)**2)\n",
    "    return j\n",
    "m=0\n",
    "b=0\n",
    "c=computeCost(m,b,a)    \n",
    "print(c)\n"
   ]
  },
  {
   "cell_type": "code",
   "execution_count": 67,
   "metadata": {},
   "outputs": [
    {
     "name": "stdout",
     "output_type": "stream",
     "text": [
      "[1.02125439] [0.91886123]\n"
     ]
    }
   ],
   "source": [
    "def gradientDescent(m,b,a,alph):\n",
    "    x=a[:,0:1]\n",
    "    y=a[:,1:2]\n",
    "    iterations=1000\n",
    "    n=len(x)\n",
    "    for i in range(1,10000):\n",
    "        h=m*x+b\n",
    "        t2=m-alph*(1/n)*sum((h-y)*x)\n",
    "        t1=b-alph*(1/n)*(sum(h-y))\n",
    "        m=t2\n",
    "        b=t1\n",
    "    return m,b\n",
    "[m,b]=gradientDescent(m,b,a,0.001)\n",
    "print(m,b)"
   ]
  },
  {
   "cell_type": "code",
   "execution_count": 70,
   "metadata": {},
   "outputs": [
    {
     "name": "stdout",
     "output_type": "stream",
     "text": [
      "[19.30144022]\n"
     ]
    }
   ],
   "source": [
    "v=18\n",
    "s=m*v+b\n",
    "print(s)"
   ]
  },
  {
   "cell_type": "code",
   "execution_count": null,
   "metadata": {},
   "outputs": [],
   "source": []
  }
 ],
 "metadata": {
  "kernelspec": {
   "display_name": "Python 3",
   "language": "python",
   "name": "python3"
  },
  "language_info": {
   "codemirror_mode": {
    "name": "ipython",
    "version": 3
   },
   "file_extension": ".py",
   "mimetype": "text/x-python",
   "name": "python",
   "nbconvert_exporter": "python",
   "pygments_lexer": "ipython3",
   "version": "3.6.4"
  }
 },
 "nbformat": 4,
 "nbformat_minor": 2
}
